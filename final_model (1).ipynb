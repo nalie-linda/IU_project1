{
 "cells": [
  {
   "cell_type": "code",
   "execution_count": 70,
   "metadata": {},
   "outputs": [],
   "source": [
    "import pandas as pd\n",
    "import numpy as np\n",
    "import seaborn as sns\n",
    "import matplotlib.pyplot as plt"
   ]
  },
  {
   "cell_type": "markdown",
   "metadata": {},
   "source": [
    "### Reading the Data"
   ]
  },
  {
   "cell_type": "code",
   "execution_count": 71,
   "metadata": {},
   "outputs": [
    {
     "name": "stdout",
     "output_type": "stream",
     "text": [
      "   Unnamed: 0                 tmsp  country  amount  success         PSP  \\\n",
      "0           0  2019-01-01 00:01:11  Germany      89        0     UK_Card   \n",
      "1           1  2019-01-01 00:01:17  Germany      89        1     UK_Card   \n",
      "2           2  2019-01-01 00:02:49  Germany     238        0     UK_Card   \n",
      "3           3  2019-01-01 00:03:13  Germany     238        1     UK_Card   \n",
      "4           4  2019-01-01 00:04:33  Austria     124        0  Simplecard   \n",
      "\n",
      "   3D_secured    card  \n",
      "0           0    Visa  \n",
      "1           0    Visa  \n",
      "2           1  Diners  \n",
      "3           1  Diners  \n",
      "4           0  Diners  \n"
     ]
    }
   ],
   "source": [
    "\n",
    "data = pd.read_csv('https://raw.githubusercontent.com/nalie-linda/IU_project1/main/PSP_Jan_Feb_2019.csv')\n",
    "print(data.head())"
   ]
  },
  {
   "cell_type": "code",
   "execution_count": 72,
   "metadata": {},
   "outputs": [
    {
     "name": "stdout",
     "output_type": "stream",
     "text": [
      "<class 'pandas.core.frame.DataFrame'>\n",
      "RangeIndex: 50410 entries, 0 to 50409\n",
      "Data columns (total 8 columns):\n",
      " #   Column      Non-Null Count  Dtype \n",
      "---  ------      --------------  ----- \n",
      " 0   Unnamed: 0  50410 non-null  int64 \n",
      " 1   tmsp        50410 non-null  object\n",
      " 2   country     50410 non-null  object\n",
      " 3   amount      50410 non-null  int64 \n",
      " 4   success     50410 non-null  int64 \n",
      " 5   PSP         50410 non-null  object\n",
      " 6   3D_secured  50410 non-null  int64 \n",
      " 7   card        50410 non-null  object\n",
      "dtypes: int64(4), object(4)\n",
      "memory usage: 3.1+ MB\n"
     ]
    }
   ],
   "source": [
    "\n",
    "data.info()"
   ]
  },
  {
   "cell_type": "markdown",
   "metadata": {},
   "source": []
  },
  {
   "cell_type": "markdown",
   "metadata": {},
   "source": [
    "### Data Quallity checks \n",
    "1. Missing values: There are no missing values.\n",
    "2. Data type conversions\n",
    "3. Handle any outliers or any values that are not valid\n",
    "4. Check for duplicates"
   ]
  },
  {
   "cell_type": "code",
   "execution_count": 73,
   "metadata": {},
   "outputs": [
    {
     "name": "stdout",
     "output_type": "stream",
     "text": [
      "<class 'pandas.core.frame.DataFrame'>\n",
      "RangeIndex: 50410 entries, 0 to 50409\n",
      "Data columns (total 8 columns):\n",
      " #   Column      Non-Null Count  Dtype         \n",
      "---  ------      --------------  -----         \n",
      " 0   Unnamed: 0  50410 non-null  int64         \n",
      " 1   tmsp        50410 non-null  datetime64[ns]\n",
      " 2   country     50410 non-null  object        \n",
      " 3   amount      50410 non-null  int64         \n",
      " 4   success     50410 non-null  int64         \n",
      " 5   PSP         50410 non-null  object        \n",
      " 6   3D_secured  50410 non-null  int64         \n",
      " 7   card        50410 non-null  object        \n",
      "dtypes: datetime64[ns](1), int64(4), object(3)\n",
      "memory usage: 3.1+ MB\n"
     ]
    }
   ],
   "source": [
    "#convert tmsp to datetime\n",
    "data['tmsp'] = pd.to_datetime(data['tmsp'], format='%Y-%m-%d %H:%M:%S')\n",
    "data.info()"
   ]
  },
  {
   "cell_type": "code",
   "execution_count": 74,
   "metadata": {},
   "outputs": [
    {
     "data": {
      "text/plain": [
       "count    50410.000000\n",
       "mean       202.395715\n",
       "std         96.274730\n",
       "min          6.000000\n",
       "25%        133.000000\n",
       "50%        201.000000\n",
       "75%        269.000000\n",
       "max        630.000000\n",
       "Name: amount, dtype: float64"
      ]
     },
     "execution_count": 74,
     "metadata": {},
     "output_type": "execute_result"
    }
   ],
   "source": [
    "data['amount'].describe()"
   ]
  },
  {
   "cell_type": "code",
   "execution_count": 75,
   "metadata": {},
   "outputs": [
    {
     "data": {
      "text/plain": [
       "array(['Visa', 'Diners', 'Master'], dtype=object)"
      ]
     },
     "execution_count": 75,
     "metadata": {},
     "output_type": "execute_result"
    }
   ],
   "source": [
    "#unique values for card variable\n",
    "data['card'].unique()"
   ]
  },
  {
   "cell_type": "code",
   "execution_count": 76,
   "metadata": {},
   "outputs": [
    {
     "data": {
      "text/plain": [
       "array(['UK_Card', 'Simplecard', 'Moneycard', 'Goldcard'], dtype=object)"
      ]
     },
     "execution_count": 76,
     "metadata": {},
     "output_type": "execute_result"
    }
   ],
   "source": [
    "#unique values for PSP variable\n",
    "data['PSP'].unique()"
   ]
  },
  {
   "cell_type": "markdown",
   "metadata": {},
   "source": [
    "### Exploratory Data analysis\n",
    "\n",
    "Explore Data: Perform exploratory data analysis (EDA) to visualize distributions, \n",
    "correlations, and relationships between features and the target variable.\n",
    "1. Distribution of success  among the different PSPs: Success rate is low among all PSPs as seen from the graph.\n",
    "2. Distribution of success among each card type\n",
    "3. Distribution of success rate and failure rate in each country for each PSP\n",
    "4. Distribution of success among 3D secured cards"
   ]
  },
  {
   "cell_type": "code",
   "execution_count": 77,
   "metadata": {},
   "outputs": [
    {
     "data": {
      "text/plain": [
       "success\n",
       "0    40182\n",
       "1    10228\n",
       "Name: count, dtype: int64"
      ]
     },
     "execution_count": 77,
     "metadata": {},
     "output_type": "execute_result"
    }
   ],
   "source": [
    "data['success'].value_counts()"
   ]
  },
  {
   "cell_type": "code",
   "execution_count": 78,
   "metadata": {},
   "outputs": [
    {
     "name": "stdout",
     "output_type": "stream",
     "text": [
      "success         0     1\n",
      "PSP                    \n",
      "Goldcard     1905  1303\n",
      "Moneycard    6482  1815\n",
      "Simplecard  10478  1968\n",
      "UK_Card     21317  5142\n"
     ]
    }
   ],
   "source": [
    "psp_counts = data.groupby(['PSP', 'success']).size().unstack().fillna(0)\n",
    "print(psp_counts)"
   ]
  },
  {
   "cell_type": "code",
   "execution_count": 79,
   "metadata": {},
   "outputs": [
    {
     "data": {
      "text/plain": [
       "<Figure size 1200x600 with 0 Axes>"
      ]
     },
     "metadata": {},
     "output_type": "display_data"
    },
    {
     "data": {
      "image/png": "[encoded data removed]",
      "text/plain": [
       "<Figure size 640x480 with 1 Axes>"
      ]
     },
     "metadata": {},
     "output_type": "display_data"
    }
   ],
   "source": [
    "# visualizing the distribution of success among each PSP\n",
    "plt.figure(figsize=(12, 6))\n",
    "psp_counts.plot(kind='bar', stacked=True, colormap='viridis')\n",
    "\n",
    "plt.title('Distribution of Success (0, 1) Among Each PSP')\n",
    "plt.xlabel('PSP')\n",
    "plt.ylabel('Count of Transactions')\n",
    "plt.legend(title='Success', labels=['Failed (0)', 'Successful (1)'])\n",
    "plt.xticks(rotation=0)\n",
    "plt.tight_layout()"
   ]
  },
  {
   "cell_type": "code",
   "execution_count": 80,
   "metadata": {},
   "outputs": [
    {
     "name": "stdout",
     "output_type": "stream",
     "text": [
      "success      0     1\n",
      "card                \n",
      "Diners    7590  2178\n",
      "Master   23379  5623\n",
      "Visa      9213  2427\n"
     ]
    }
   ],
   "source": [
    "#Distribution of success rate by card\n",
    "card_counts = data.groupby(['card', 'success']).size().unstack().fillna(0)\n",
    "print(card_counts)"
   ]
  },
  {
   "cell_type": "code",
   "execution_count": 81,
   "metadata": {},
   "outputs": [
    {
     "data": {
      "text/plain": [
       "<Figure size 1200x600 with 0 Axes>"
      ]
     },
     "metadata": {},
     "output_type": "display_data"
    },
    {
     "data": {
      "image/png": "[encoded data removed]",
      "text/plain": [
       "<Figure size 640x480 with 1 Axes>"
      ]
     },
     "metadata": {},
     "output_type": "display_data"
    }
   ],
   "source": [
    "# Plotting the distribution of success among each card\n",
    "plt.figure(figsize=(12, 6))\n",
    "card_counts.plot(kind='bar', stacked=True, colormap='viridis')\n",
    "\n",
    "plt.title('Distribution of Success (0, 1) Among Each card')\n",
    "plt.xlabel('card')\n",
    "plt.ylabel('Count of Transactions')\n",
    "plt.legend(title='Success', labels=['Failed (0)', 'Successful (1)'])\n",
    "plt.xticks(rotation=0)\n",
    "plt.tight_layout()"
   ]
  },
  {
   "cell_type": "code",
   "execution_count": 82,
   "metadata": {},
   "outputs": [
    {
     "name": "stdout",
     "output_type": "stream",
     "text": [
      "success         0     1\n",
      "3D_secured             \n",
      "0           31120  7279\n",
      "1            9062  2949\n"
     ]
    }
   ],
   "source": [
    "cards_3D = data.groupby(['3D_secured', 'success']).size().unstack().fillna(0)\n",
    "print(cards_3D)"
   ]
  },
  {
   "cell_type": "code",
   "execution_count": 83,
   "metadata": {},
   "outputs": [
    {
     "data": {
      "text/plain": [
       "<Figure size 1200x600 with 0 Axes>"
      ]
     },
     "metadata": {},
     "output_type": "display_data"
    },
    {
     "data": {
      "image/png": "[encoded data removed]",
      "text/plain": [
       "<Figure size 640x480 with 1 Axes>"
      ]
     },
     "metadata": {},
     "output_type": "display_data"
    }
   ],
   "source": [
    "#Plotting the distribution of success among each PSP\n",
    "plt.figure(figsize=(12, 6))\n",
    "cards_3D.plot(kind='bar', stacked=True, colormap='plasma')\n",
    "\n",
    "plt.title('Distribution of Success (0, 1) 3D secured cards')\n",
    "plt.xlabel('3D_security')\n",
    "plt.ylabel('Count of Transactions')\n",
    "plt.legend(title='Success', labels=['Failed (0)', 'Successful (1)'])\n",
    "plt.xticks(rotation=0)\n",
    "plt.tight_layout()"
   ]
  },
  {
   "cell_type": "markdown",
   "metadata": {},
   "source": [
    "**Analyzing Success(1) and failure(0) for each PSP in different countries**\n",
    "- Success rate is highest among transactions made through Goldcard PSP in Austria and Switzerland followed by Germany.\n",
    "- Simplecard PSP has the lowest success rate of transactions across all countries, followed by uk_card PSP.\n"
   ]
  },
  {
   "cell_type": "code",
   "execution_count": 84,
   "metadata": {},
   "outputs": [
    {
     "name": "stdout",
     "output_type": "stream",
     "text": [
      "           PSP      country  Failure (0)  Success (1)  Total  success%  \\\n",
      "0     Goldcard      Austria          335          248    583      42.5   \n",
      "1     Goldcard      Germany         1175          764   1939      39.4   \n",
      "2     Goldcard  Switzerland          395          291    686      42.4   \n",
      "3    Moneycard      Austria         1286          368   1654      22.2   \n",
      "4    Moneycard      Germany         3904         1056   4960      21.3   \n",
      "5    Moneycard  Switzerland         1292          391   1683      23.2   \n",
      "6   Simplecard      Austria         2031          383   2414      15.9   \n",
      "7   Simplecard      Germany         6247         1184   7431      15.9   \n",
      "8   Simplecard  Switzerland         2200          401   2601      15.4   \n",
      "9      UK_Card      Austria         4174         1014   5188      19.5   \n",
      "10     UK_Card      Germany        12819         3084  15903      19.4   \n",
      "11     UK_Card  Switzerland         4324         1044   5368      19.4   \n",
      "\n",
      "    Failure%  \n",
      "0       57.5  \n",
      "1       60.6  \n",
      "2       57.6  \n",
      "3       77.8  \n",
      "4       78.7  \n",
      "5       76.8  \n",
      "6       84.1  \n",
      "7       84.1  \n",
      "8       84.6  \n",
      "9       80.5  \n",
      "10      80.6  \n",
      "11      80.6  \n"
     ]
    }
   ],
   "source": [
    "# Calculate the success rate (1) and failure rate (0) for each country for each PSP\n",
    "country_psp = data.groupby(['PSP', 'country', 'success']).size().unstack(fill_value=0).reset_index()\n",
    "# Rename columns for better understanding\n",
    "country_psp.columns = ['PSP', 'country', 'Failure (0)', 'Success (1)']\n",
    "# Add a 'Total' column\n",
    "country_psp['Total'] = country_psp['Failure (0)'] + country_psp['Success (1)']\n",
    "\n",
    "grand_total = country_psp['Total'].sum()\n",
    "\n",
    "country_psp['success%'] = round((country_psp['Success (1)'] / country_psp['Total'])*100,1)\n",
    "country_psp['Failure%'] = round((country_psp['Failure (0)'] / country_psp['Total'])*100,1)\n",
    "\n",
    "print(country_psp)\n",
    "\n",
    "# print(grand_total)\n",
    "\n"
   ]
  },
  {
   "cell_type": "code",
   "execution_count": 85,
   "metadata": {},
   "outputs": [
    {
     "name": "stdout",
     "output_type": "stream",
     "text": [
      "PSP      country success  Goldcard  Moneycard  Simplecard  UK_Card  \\\n",
      "0        Austria       0       335       1286        2031     4174   \n",
      "1        Austria       1       248        368         383     1014   \n",
      "2        Germany       0      1175       3904        6247    12819   \n",
      "3        Germany       1       764       1056        1184     3084   \n",
      "4    Switzerland       0       395       1292        2200     4324   \n",
      "5    Switzerland       1       291        391         401     1044   \n",
      "6    Grand Total              3208       8297       12446    26459   \n",
      "\n",
      "PSP  Grand Total  \n",
      "0           7826  \n",
      "1           2013  \n",
      "2          24145  \n",
      "3           6088  \n",
      "4           8211  \n",
      "5           2127  \n",
      "6          50410  \n"
     ]
    }
   ],
   "source": [
    "# Create the pivot table\n",
    "pivot_table = pd.pivot_table(data, \n",
    "                             values='amount', \n",
    "                             index=['country', 'success'], \n",
    "                             columns='PSP', \n",
    "                             aggfunc='count', \n",
    "                             fill_value=0, \n",
    "                             margins=True, \n",
    "                             margins_name='Grand Total')\n",
    "\n",
    "\n",
    "\n",
    "# Reset the index\n",
    "pivot_table = pivot_table.reset_index()\n",
    "\n",
    "# Display the pivot table\n",
    "print(pivot_table)"
   ]
  },
  {
   "cell_type": "code",
   "execution_count": 86,
   "metadata": {},
   "outputs": [
    {
     "data": {
      "image/png": "[encoded data removed]",
      "text/plain": [
       "<Figure size 1800x800 with 2 Axes>"
      ]
     },
     "metadata": {},
     "output_type": "display_data"
    }
   ],
   "source": [
    "# Create a pivot table \n",
    "df_success = country_psp.pivot(index='PSP', columns='country', values='success%')\n",
    "df_failure = country_psp.pivot(index='PSP', columns='country', values='Failure%')\n",
    "\n",
    "# Set up the figure and axes\n",
    "fig, axes = plt.subplots(ncols=2, figsize=(18, 8))\n",
    "\n",
    "# Plot success rates\n",
    "df_success.plot(kind='bar', ax=axes[0])\n",
    "axes[0].set_title('Success Rate (%) across Different Countries for Different PSPs')\n",
    "axes[0].set_ylabel('Success Rate (%)')\n",
    "axes[0].set_xlabel('PSP')\n",
    "axes[0].legend(title='Country')\n",
    "axes[0].grid(axis='y')\n",
    "\n",
    "# Plot failure rates\n",
    "df_failure.plot(kind='bar', ax=axes[1])\n",
    "axes[1].set_title('Failure Rate (%) across Different Countries for Different PSPs')\n",
    "axes[1].set_ylabel('Failure Rate (%)')\n",
    "axes[1].set_xlabel('PSP')\n",
    "axes[1].legend(title='Country')\n",
    "axes[1].grid(axis='y')\n",
    "\n",
    "plt.tight_layout()\n",
    "plt.show()"
   ]
  },
  {
   "cell_type": "markdown",
   "metadata": {},
   "source": [
    "### Feature Engineering\n",
    "\n",
    "1. Factoring in Fees for successful and Failed transactions.\n",
    "2. Computing avg fees of a transaction through each PSP in different countries.\n",
    "3. Calculating success and failure rates for different PSPs in different countries"
   ]
  },
  {
   "cell_type": "code",
   "execution_count": 87,
   "metadata": {},
   "outputs": [],
   "source": [
    "# Define the fees for each PSP\n",
    "fees = {\n",
    "    'PSP': ['Moneycard', 'Goldcard', 'UK_Card', 'Simplecard'],\n",
    "    'fee_success': [5, 10, 3, 1],\n",
    "    'fee_failure': [2, 5, 1, 0.5]\n",
    "}"
   ]
  },
  {
   "cell_type": "code",
   "execution_count": 88,
   "metadata": {},
   "outputs": [
    {
     "name": "stdout",
     "output_type": "stream",
     "text": [
      "          PSP  fee_success  fee_failure\n",
      "0   Moneycard            5          2.0\n",
      "1    Goldcard           10          5.0\n",
      "2     UK_Card            3          1.0\n",
      "3  Simplecard            1          0.5\n"
     ]
    }
   ],
   "source": [
    "df_fees = pd.DataFrame(fees)\n",
    "print(df_fees)"
   ]
  },
  {
   "cell_type": "code",
   "execution_count": 89,
   "metadata": {},
   "outputs": [
    {
     "name": "stdout",
     "output_type": "stream",
     "text": [
      "           PSP      country  Failure (0)  Success (1)  Total  success%  \\\n",
      "0     Goldcard      Austria          335          248    583      42.5   \n",
      "1     Goldcard      Germany         1175          764   1939      39.4   \n",
      "2     Goldcard  Switzerland          395          291    686      42.4   \n",
      "3    Moneycard      Austria         1286          368   1654      22.2   \n",
      "4    Moneycard      Germany         3904         1056   4960      21.3   \n",
      "5    Moneycard  Switzerland         1292          391   1683      23.2   \n",
      "6   Simplecard      Austria         2031          383   2414      15.9   \n",
      "7   Simplecard      Germany         6247         1184   7431      15.9   \n",
      "8   Simplecard  Switzerland         2200          401   2601      15.4   \n",
      "9      UK_Card      Austria         4174         1014   5188      19.5   \n",
      "10     UK_Card      Germany        12819         3084  15903      19.4   \n",
      "11     UK_Card  Switzerland         4324         1044   5368      19.4   \n",
      "\n",
      "    Failure%  fee_success  fee_failure  \n",
      "0       57.5           10          5.0  \n",
      "1       60.6           10          5.0  \n",
      "2       57.6           10          5.0  \n",
      "3       77.8            5          2.0  \n",
      "4       78.7            5          2.0  \n",
      "5       76.8            5          2.0  \n",
      "6       84.1            1          0.5  \n",
      "7       84.1            1          0.5  \n",
      "8       84.6            1          0.5  \n",
      "9       80.5            3          1.0  \n",
      "10      80.6            3          1.0  \n",
      "11      80.6            3          1.0  \n"
     ]
    }
   ],
   "source": [
    "# Merge the DataFrames on 'PSP'\n",
    "df_merged = pd.merge(country_psp, df_fees, on='PSP')\n",
    "print(df_merged)"
   ]
  },
  {
   "cell_type": "code",
   "execution_count": 90,
   "metadata": {},
   "outputs": [
    {
     "name": "stdout",
     "output_type": "stream",
     "text": [
      "           PSP      country  success%  Failure%  average_fee\n",
      "0     Goldcard      Austria      42.5      57.5       7.1250\n",
      "1     Goldcard      Germany      39.4      60.6       6.9700\n",
      "2     Goldcard  Switzerland      42.4      57.6       7.1200\n",
      "3    Moneycard      Austria      22.2      77.8       2.6660\n",
      "4    Moneycard      Germany      21.3      78.7       2.6390\n",
      "5    Moneycard  Switzerland      23.2      76.8       2.6960\n",
      "6   Simplecard      Austria      15.9      84.1       0.5795\n",
      "7   Simplecard      Germany      15.9      84.1       0.5795\n",
      "8   Simplecard  Switzerland      15.4      84.6       0.5770\n",
      "9      UK_Card      Austria      19.5      80.5       1.3900\n",
      "10     UK_Card      Germany      19.4      80.6       1.3880\n",
      "11     UK_Card  Switzerland      19.4      80.6       1.3880\n"
     ]
    }
   ],
   "source": [
    "# Calculate the average transaction fee\n",
    "df_merged['average_fee'] = (df_merged['success%'] * df_merged['fee_success'] / 100) + \\\n",
    "                           (df_merged['Failure%'] * df_merged['fee_failure'] / 100)\n",
    "# Use this data for feature engineering\n",
    "print(df_merged[['PSP', 'country', 'success%', 'Failure%', 'average_fee']])"
   ]
  },
  {
   "cell_type": "code",
   "execution_count": 91,
   "metadata": {},
   "outputs": [
    {
     "data": {
      "text/html": [
       "<div>\n",
       "<style scoped>\n",
       "    .dataframe tbody tr th:only-of-type {\n",
       "        vertical-align: middle;\n",
       "    }\n",
       "\n",
       "    .dataframe tbody tr th {\n",
       "        vertical-align: top;\n",
       "    }\n",
       "\n",
       "    .dataframe thead th {\n",
       "        text-align: right;\n",
       "    }\n",
       "</style>\n",
       "<table border=\"1\" class=\"dataframe\">\n",
       "  <thead>\n",
       "    <tr style=\"text-align: right;\">\n",
       "      <th></th>\n",
       "      <th>Unnamed: 0</th>\n",
       "      <th>tmsp</th>\n",
       "      <th>country</th>\n",
       "      <th>amount</th>\n",
       "      <th>success</th>\n",
       "      <th>PSP</th>\n",
       "      <th>3D_secured</th>\n",
       "      <th>card</th>\n",
       "      <th>Failure (0)</th>\n",
       "      <th>Success (1)</th>\n",
       "      <th>Total</th>\n",
       "      <th>success%</th>\n",
       "      <th>Failure%</th>\n",
       "      <th>fee_success</th>\n",
       "      <th>fee_failure</th>\n",
       "      <th>average_fee</th>\n",
       "    </tr>\n",
       "  </thead>\n",
       "  <tbody>\n",
       "    <tr>\n",
       "      <th>0</th>\n",
       "      <td>0</td>\n",
       "      <td>2019-01-01 00:01:11</td>\n",
       "      <td>Germany</td>\n",
       "      <td>89</td>\n",
       "      <td>0</td>\n",
       "      <td>UK_Card</td>\n",
       "      <td>0</td>\n",
       "      <td>Visa</td>\n",
       "      <td>12819</td>\n",
       "      <td>3084</td>\n",
       "      <td>15903</td>\n",
       "      <td>19.4</td>\n",
       "      <td>80.6</td>\n",
       "      <td>3</td>\n",
       "      <td>1.0</td>\n",
       "      <td>1.3880</td>\n",
       "    </tr>\n",
       "    <tr>\n",
       "      <th>1</th>\n",
       "      <td>1</td>\n",
       "      <td>2019-01-01 00:01:17</td>\n",
       "      <td>Germany</td>\n",
       "      <td>89</td>\n",
       "      <td>1</td>\n",
       "      <td>UK_Card</td>\n",
       "      <td>0</td>\n",
       "      <td>Visa</td>\n",
       "      <td>12819</td>\n",
       "      <td>3084</td>\n",
       "      <td>15903</td>\n",
       "      <td>19.4</td>\n",
       "      <td>80.6</td>\n",
       "      <td>3</td>\n",
       "      <td>1.0</td>\n",
       "      <td>1.3880</td>\n",
       "    </tr>\n",
       "    <tr>\n",
       "      <th>2</th>\n",
       "      <td>2</td>\n",
       "      <td>2019-01-01 00:02:49</td>\n",
       "      <td>Germany</td>\n",
       "      <td>238</td>\n",
       "      <td>0</td>\n",
       "      <td>UK_Card</td>\n",
       "      <td>1</td>\n",
       "      <td>Diners</td>\n",
       "      <td>12819</td>\n",
       "      <td>3084</td>\n",
       "      <td>15903</td>\n",
       "      <td>19.4</td>\n",
       "      <td>80.6</td>\n",
       "      <td>3</td>\n",
       "      <td>1.0</td>\n",
       "      <td>1.3880</td>\n",
       "    </tr>\n",
       "    <tr>\n",
       "      <th>3</th>\n",
       "      <td>3</td>\n",
       "      <td>2019-01-01 00:03:13</td>\n",
       "      <td>Germany</td>\n",
       "      <td>238</td>\n",
       "      <td>1</td>\n",
       "      <td>UK_Card</td>\n",
       "      <td>1</td>\n",
       "      <td>Diners</td>\n",
       "      <td>12819</td>\n",
       "      <td>3084</td>\n",
       "      <td>15903</td>\n",
       "      <td>19.4</td>\n",
       "      <td>80.6</td>\n",
       "      <td>3</td>\n",
       "      <td>1.0</td>\n",
       "      <td>1.3880</td>\n",
       "    </tr>\n",
       "    <tr>\n",
       "      <th>4</th>\n",
       "      <td>4</td>\n",
       "      <td>2019-01-01 00:04:33</td>\n",
       "      <td>Austria</td>\n",
       "      <td>124</td>\n",
       "      <td>0</td>\n",
       "      <td>Simplecard</td>\n",
       "      <td>0</td>\n",
       "      <td>Diners</td>\n",
       "      <td>2031</td>\n",
       "      <td>383</td>\n",
       "      <td>2414</td>\n",
       "      <td>15.9</td>\n",
       "      <td>84.1</td>\n",
       "      <td>1</td>\n",
       "      <td>0.5</td>\n",
       "      <td>0.5795</td>\n",
       "    </tr>\n",
       "  </tbody>\n",
       "</table>\n",
       "</div>"
      ],
      "text/plain": [
       "   Unnamed: 0                tmsp  country  amount  success         PSP  \\\n",
       "0           0 2019-01-01 00:01:11  Germany      89        0     UK_Card   \n",
       "1           1 2019-01-01 00:01:17  Germany      89        1     UK_Card   \n",
       "2           2 2019-01-01 00:02:49  Germany     238        0     UK_Card   \n",
       "3           3 2019-01-01 00:03:13  Germany     238        1     UK_Card   \n",
       "4           4 2019-01-01 00:04:33  Austria     124        0  Simplecard   \n",
       "\n",
       "   3D_secured    card  Failure (0)  Success (1)  Total  success%  Failure%  \\\n",
       "0           0    Visa        12819         3084  15903      19.4      80.6   \n",
       "1           0    Visa        12819         3084  15903      19.4      80.6   \n",
       "2           1  Diners        12819         3084  15903      19.4      80.6   \n",
       "3           1  Diners        12819         3084  15903      19.4      80.6   \n",
       "4           0  Diners         2031          383   2414      15.9      84.1   \n",
       "\n",
       "   fee_success  fee_failure  average_fee  \n",
       "0            3          1.0       1.3880  \n",
       "1            3          1.0       1.3880  \n",
       "2            3          1.0       1.3880  \n",
       "3            3          1.0       1.3880  \n",
       "4            1          0.5       0.5795  "
      ]
     },
     "execution_count": 91,
     "metadata": {},
     "output_type": "execute_result"
    }
   ],
   "source": [
    "# Merge the main dataset with the additional data on 'PSP' and 'country'\n",
    "data2 = pd.merge(data, df_merged, on=['PSP', 'country'], how='left')\n",
    "data2.head()"
   ]
  },
  {
   "cell_type": "markdown",
   "metadata": {},
   "source": [
    "**Several payment attempts of the same purchase**\n",
    "\n",
    "In this we consider payments made from the same country with the same amount, within one minute of each other.\n",
    "These are grouped together"
   ]
  },
  {
   "cell_type": "code",
   "execution_count": 92,
   "metadata": {},
   "outputs": [],
   "source": [
    "# make a copy of the original data\n",
    "data3 = data.copy(deep=True)"
   ]
  },
  {
   "cell_type": "code",
   "execution_count": 93,
   "metadata": {},
   "outputs": [],
   "source": [
    "# Sort by country, amount, and timestamp\n",
    "from datetime import datetime, timedelta\n",
    "\n",
    "data3.sort_values(by=['country', 'amount', 'tmsp'], inplace=True)"
   ]
  },
  {
   "cell_type": "code",
   "execution_count": 94,
   "metadata": {},
   "outputs": [
    {
     "name": "stdout",
     "output_type": "stream",
     "text": [
      "<class 'pandas.core.frame.DataFrame'>\n",
      "RangeIndex: 27337 entries, 0 to 27336\n",
      "Data columns (total 6 columns):\n",
      " #   Column     Non-Null Count  Dtype         \n",
      "---  ------     --------------  -----         \n",
      " 0   first_psp  27337 non-null  object        \n",
      " 1   last_psp   27337 non-null  object        \n",
      " 2   country    27337 non-null  object        \n",
      " 3   amount     27337 non-null  int64         \n",
      " 4   tmsp       27337 non-null  datetime64[ns]\n",
      " 5   success    27337 non-null  bool          \n",
      "dtypes: bool(1), datetime64[ns](1), int64(1), object(3)\n",
      "memory usage: 1.1+ MB\n",
      "None\n"
     ]
    }
   ],
   "source": [
    "# Initialize an empty list to store the grouped transactions\n",
    "grouped_transactions = []\n",
    "\n",
    "# Initialize variables to keep track of the current group\n",
    "group = []\n",
    "current_country = None\n",
    "current_amount = None\n",
    "\n",
    "# Loop through the dataframe and group transactions\n",
    "for idx, row in data3.iterrows():\n",
    "    if group:\n",
    "        prev_row = group[-1]\n",
    "        # Check if the current transaction is within one minute of the previous one\n",
    "        if (row['amount'] == prev_row['amount'] and\n",
    "            row['country'] == prev_row['country'] and\n",
    "            (row['tmsp'] - prev_row['tmsp']) <= timedelta(minutes=1)):\n",
    "            group.append(row)\n",
    "        else:\n",
    "            # Process the current group\n",
    "            grouped_transactions.append({\n",
    "                'first_psp': group[0]['PSP'],\n",
    "                'last_psp': group[-1]['PSP'],\n",
    "                'country': group[0]['country'],\n",
    "                'amount': group[0]['amount'],\n",
    "                'tmsp': group[0]['tmsp'],\n",
    "                'success': any(g['success'] == 1 for g in group)  # If any transaction in the group is successful\n",
    "            })\n",
    "            # Start a new group\n",
    "            group = [row]\n",
    "    else:\n",
    "        group = [row]\n",
    "\n",
    "# Add the last group\n",
    "if group:\n",
    "    grouped_transactions.append({\n",
    "        'first_psp': group[0]['PSP'],\n",
    "        'last_psp': group[-1]['PSP'],\n",
    "        'country': group[0]['country'],\n",
    "        'amount': group[0]['amount'],\n",
    "        'tmsp': group[0]['tmsp'],\n",
    "        'success': any(g['success'] == 1 for g in group)  # If any transaction in the group is successful\n",
    "    })\n",
    "\n",
    "# Convert the grouped transactions to a DataFrame\n",
    "df_grouped = pd.DataFrame(grouped_transactions)\n",
    "\n",
    "print(df_grouped.info())"
   ]
  },
  {
   "cell_type": "code",
   "execution_count": 95,
   "metadata": {},
   "outputs": [
    {
     "name": "stdout",
     "output_type": "stream",
     "text": [
      "<class 'pandas.core.frame.DataFrame'>\n",
      "RangeIndex: 27337 entries, 0 to 27336\n",
      "Data columns (total 6 columns):\n",
      " #   Column     Non-Null Count  Dtype         \n",
      "---  ------     --------------  -----         \n",
      " 0   first_psp  27337 non-null  object        \n",
      " 1   last_psp   27337 non-null  object        \n",
      " 2   country    27337 non-null  object        \n",
      " 3   amount     27337 non-null  int64         \n",
      " 4   tmsp       27337 non-null  datetime64[ns]\n",
      " 5   success    27337 non-null  bool          \n",
      "dtypes: bool(1), datetime64[ns](1), int64(1), object(3)\n",
      "memory usage: 1.1+ MB\n"
     ]
    }
   ],
   "source": [
    "df_grouped.info()"
   ]
  },
  {
   "cell_type": "code",
   "execution_count": 96,
   "metadata": {},
   "outputs": [
    {
     "data": {
      "text/plain": [
       "success\n",
       "False    17112\n",
       "True     10225\n",
       "Name: count, dtype: int64"
      ]
     },
     "execution_count": 96,
     "metadata": {},
     "output_type": "execute_result"
    }
   ],
   "source": [
    "# check the class counts for target\n",
    "df_grouped['success'].value_counts()"
   ]
  },
  {
   "cell_type": "code",
   "execution_count": 97,
   "metadata": {},
   "outputs": [
    {
     "data": {
      "text/html": [
       "<div>\n",
       "<style scoped>\n",
       "    .dataframe tbody tr th:only-of-type {\n",
       "        vertical-align: middle;\n",
       "    }\n",
       "\n",
       "    .dataframe tbody tr th {\n",
       "        vertical-align: top;\n",
       "    }\n",
       "\n",
       "    .dataframe thead th {\n",
       "        text-align: right;\n",
       "    }\n",
       "</style>\n",
       "<table border=\"1\" class=\"dataframe\">\n",
       "  <thead>\n",
       "    <tr style=\"text-align: right;\">\n",
       "      <th></th>\n",
       "      <th>Unnamed: 0</th>\n",
       "      <th>tmsp</th>\n",
       "      <th>country</th>\n",
       "      <th>amount</th>\n",
       "      <th>success_x</th>\n",
       "      <th>PSP</th>\n",
       "      <th>3D_secured</th>\n",
       "      <th>card</th>\n",
       "      <th>Failure (0)</th>\n",
       "      <th>Success (1)</th>\n",
       "      <th>Total</th>\n",
       "      <th>success%</th>\n",
       "      <th>Failure%</th>\n",
       "      <th>fee_success</th>\n",
       "      <th>fee_failure</th>\n",
       "      <th>average_fee</th>\n",
       "      <th>first_psp</th>\n",
       "      <th>last_psp</th>\n",
       "      <th>success_y</th>\n",
       "    </tr>\n",
       "  </thead>\n",
       "  <tbody>\n",
       "    <tr>\n",
       "      <th>0</th>\n",
       "      <td>9238</td>\n",
       "      <td>2019-01-10 03:49:12</td>\n",
       "      <td>Austria</td>\n",
       "      <td>6</td>\n",
       "      <td>0</td>\n",
       "      <td>Moneycard</td>\n",
       "      <td>0</td>\n",
       "      <td>Diners</td>\n",
       "      <td>1286</td>\n",
       "      <td>368</td>\n",
       "      <td>1654</td>\n",
       "      <td>22.2</td>\n",
       "      <td>77.8</td>\n",
       "      <td>5</td>\n",
       "      <td>2.0</td>\n",
       "      <td>2.6660</td>\n",
       "      <td>Moneycard</td>\n",
       "      <td>Simplecard</td>\n",
       "      <td>False</td>\n",
       "    </tr>\n",
       "    <tr>\n",
       "      <th>1</th>\n",
       "      <td>22742</td>\n",
       "      <td>2019-01-27 14:01:11</td>\n",
       "      <td>Austria</td>\n",
       "      <td>6</td>\n",
       "      <td>1</td>\n",
       "      <td>Simplecard</td>\n",
       "      <td>0</td>\n",
       "      <td>Master</td>\n",
       "      <td>2031</td>\n",
       "      <td>383</td>\n",
       "      <td>2414</td>\n",
       "      <td>15.9</td>\n",
       "      <td>84.1</td>\n",
       "      <td>1</td>\n",
       "      <td>0.5</td>\n",
       "      <td>0.5795</td>\n",
       "      <td>Simplecard</td>\n",
       "      <td>Simplecard</td>\n",
       "      <td>True</td>\n",
       "    </tr>\n",
       "    <tr>\n",
       "      <th>2</th>\n",
       "      <td>33737</td>\n",
       "      <td>2019-02-08 05:02:33</td>\n",
       "      <td>Austria</td>\n",
       "      <td>6</td>\n",
       "      <td>0</td>\n",
       "      <td>UK_Card</td>\n",
       "      <td>0</td>\n",
       "      <td>Diners</td>\n",
       "      <td>4174</td>\n",
       "      <td>1014</td>\n",
       "      <td>5188</td>\n",
       "      <td>19.5</td>\n",
       "      <td>80.5</td>\n",
       "      <td>3</td>\n",
       "      <td>1.0</td>\n",
       "      <td>1.3900</td>\n",
       "      <td>UK_Card</td>\n",
       "      <td>Simplecard</td>\n",
       "      <td>False</td>\n",
       "    </tr>\n",
       "    <tr>\n",
       "      <th>3</th>\n",
       "      <td>40539</td>\n",
       "      <td>2019-02-16 08:24:40</td>\n",
       "      <td>Austria</td>\n",
       "      <td>6</td>\n",
       "      <td>1</td>\n",
       "      <td>UK_Card</td>\n",
       "      <td>1</td>\n",
       "      <td>Master</td>\n",
       "      <td>4174</td>\n",
       "      <td>1014</td>\n",
       "      <td>5188</td>\n",
       "      <td>19.5</td>\n",
       "      <td>80.5</td>\n",
       "      <td>3</td>\n",
       "      <td>1.0</td>\n",
       "      <td>1.3900</td>\n",
       "      <td>UK_Card</td>\n",
       "      <td>UK_Card</td>\n",
       "      <td>True</td>\n",
       "    </tr>\n",
       "    <tr>\n",
       "      <th>4</th>\n",
       "      <td>21179</td>\n",
       "      <td>2019-01-25 04:18:26</td>\n",
       "      <td>Austria</td>\n",
       "      <td>7</td>\n",
       "      <td>0</td>\n",
       "      <td>Moneycard</td>\n",
       "      <td>0</td>\n",
       "      <td>Master</td>\n",
       "      <td>1286</td>\n",
       "      <td>368</td>\n",
       "      <td>1654</td>\n",
       "      <td>22.2</td>\n",
       "      <td>77.8</td>\n",
       "      <td>5</td>\n",
       "      <td>2.0</td>\n",
       "      <td>2.6660</td>\n",
       "      <td>Moneycard</td>\n",
       "      <td>Moneycard</td>\n",
       "      <td>False</td>\n",
       "    </tr>\n",
       "    <tr>\n",
       "      <th>5</th>\n",
       "      <td>23798</td>\n",
       "      <td>2019-01-28 23:48:19</td>\n",
       "      <td>Austria</td>\n",
       "      <td>7</td>\n",
       "      <td>0</td>\n",
       "      <td>UK_Card</td>\n",
       "      <td>0</td>\n",
       "      <td>Master</td>\n",
       "      <td>4174</td>\n",
       "      <td>1014</td>\n",
       "      <td>5188</td>\n",
       "      <td>19.5</td>\n",
       "      <td>80.5</td>\n",
       "      <td>3</td>\n",
       "      <td>1.0</td>\n",
       "      <td>1.3900</td>\n",
       "      <td>UK_Card</td>\n",
       "      <td>UK_Card</td>\n",
       "      <td>False</td>\n",
       "    </tr>\n",
       "    <tr>\n",
       "      <th>6</th>\n",
       "      <td>31712</td>\n",
       "      <td>2019-02-06 04:09:05</td>\n",
       "      <td>Austria</td>\n",
       "      <td>7</td>\n",
       "      <td>0</td>\n",
       "      <td>UK_Card</td>\n",
       "      <td>0</td>\n",
       "      <td>Diners</td>\n",
       "      <td>4174</td>\n",
       "      <td>1014</td>\n",
       "      <td>5188</td>\n",
       "      <td>19.5</td>\n",
       "      <td>80.5</td>\n",
       "      <td>3</td>\n",
       "      <td>1.0</td>\n",
       "      <td>1.3900</td>\n",
       "      <td>UK_Card</td>\n",
       "      <td>UK_Card</td>\n",
       "      <td>True</td>\n",
       "    </tr>\n",
       "    <tr>\n",
       "      <th>7</th>\n",
       "      <td>36838</td>\n",
       "      <td>2019-02-12 00:25:52</td>\n",
       "      <td>Austria</td>\n",
       "      <td>7</td>\n",
       "      <td>1</td>\n",
       "      <td>Simplecard</td>\n",
       "      <td>1</td>\n",
       "      <td>Diners</td>\n",
       "      <td>2031</td>\n",
       "      <td>383</td>\n",
       "      <td>2414</td>\n",
       "      <td>15.9</td>\n",
       "      <td>84.1</td>\n",
       "      <td>1</td>\n",
       "      <td>0.5</td>\n",
       "      <td>0.5795</td>\n",
       "      <td>Simplecard</td>\n",
       "      <td>Simplecard</td>\n",
       "      <td>True</td>\n",
       "    </tr>\n",
       "    <tr>\n",
       "      <th>8</th>\n",
       "      <td>49588</td>\n",
       "      <td>2019-02-27 23:46:42</td>\n",
       "      <td>Austria</td>\n",
       "      <td>7</td>\n",
       "      <td>0</td>\n",
       "      <td>UK_Card</td>\n",
       "      <td>0</td>\n",
       "      <td>Master</td>\n",
       "      <td>4174</td>\n",
       "      <td>1014</td>\n",
       "      <td>5188</td>\n",
       "      <td>19.5</td>\n",
       "      <td>80.5</td>\n",
       "      <td>3</td>\n",
       "      <td>1.0</td>\n",
       "      <td>1.3900</td>\n",
       "      <td>UK_Card</td>\n",
       "      <td>Goldcard</td>\n",
       "      <td>False</td>\n",
       "    </tr>\n",
       "    <tr>\n",
       "      <th>9</th>\n",
       "      <td>21448</td>\n",
       "      <td>2019-01-25 13:52:53</td>\n",
       "      <td>Austria</td>\n",
       "      <td>8</td>\n",
       "      <td>1</td>\n",
       "      <td>UK_Card</td>\n",
       "      <td>0</td>\n",
       "      <td>Diners</td>\n",
       "      <td>4174</td>\n",
       "      <td>1014</td>\n",
       "      <td>5188</td>\n",
       "      <td>19.5</td>\n",
       "      <td>80.5</td>\n",
       "      <td>3</td>\n",
       "      <td>1.0</td>\n",
       "      <td>1.3900</td>\n",
       "      <td>UK_Card</td>\n",
       "      <td>UK_Card</td>\n",
       "      <td>True</td>\n",
       "    </tr>\n",
       "  </tbody>\n",
       "</table>\n",
       "</div>"
      ],
      "text/plain": [
       "   Unnamed: 0                tmsp  country  amount  success_x         PSP  \\\n",
       "0        9238 2019-01-10 03:49:12  Austria       6          0   Moneycard   \n",
       "1       22742 2019-01-27 14:01:11  Austria       6          1  Simplecard   \n",
       "2       33737 2019-02-08 05:02:33  Austria       6          0     UK_Card   \n",
       "3       40539 2019-02-16 08:24:40  Austria       6          1     UK_Card   \n",
       "4       21179 2019-01-25 04:18:26  Austria       7          0   Moneycard   \n",
       "5       23798 2019-01-28 23:48:19  Austria       7          0     UK_Card   \n",
       "6       31712 2019-02-06 04:09:05  Austria       7          0     UK_Card   \n",
       "7       36838 2019-02-12 00:25:52  Austria       7          1  Simplecard   \n",
       "8       49588 2019-02-27 23:46:42  Austria       7          0     UK_Card   \n",
       "9       21448 2019-01-25 13:52:53  Austria       8          1     UK_Card   \n",
       "\n",
       "   3D_secured    card  Failure (0)  Success (1)  Total  success%  Failure%  \\\n",
       "0           0  Diners         1286          368   1654      22.2      77.8   \n",
       "1           0  Master         2031          383   2414      15.9      84.1   \n",
       "2           0  Diners         4174         1014   5188      19.5      80.5   \n",
       "3           1  Master         4174         1014   5188      19.5      80.5   \n",
       "4           0  Master         1286          368   1654      22.2      77.8   \n",
       "5           0  Master         4174         1014   5188      19.5      80.5   \n",
       "6           0  Diners         4174         1014   5188      19.5      80.5   \n",
       "7           1  Diners         2031          383   2414      15.9      84.1   \n",
       "8           0  Master         4174         1014   5188      19.5      80.5   \n",
       "9           0  Diners         4174         1014   5188      19.5      80.5   \n",
       "\n",
       "   fee_success  fee_failure  average_fee   first_psp    last_psp  success_y  \n",
       "0            5          2.0       2.6660   Moneycard  Simplecard      False  \n",
       "1            1          0.5       0.5795  Simplecard  Simplecard       True  \n",
       "2            3          1.0       1.3900     UK_Card  Simplecard      False  \n",
       "3            3          1.0       1.3900     UK_Card     UK_Card       True  \n",
       "4            5          2.0       2.6660   Moneycard   Moneycard      False  \n",
       "5            3          1.0       1.3900     UK_Card     UK_Card      False  \n",
       "6            3          1.0       1.3900     UK_Card     UK_Card       True  \n",
       "7            1          0.5       0.5795  Simplecard  Simplecard       True  \n",
       "8            3          1.0       1.3900     UK_Card    Goldcard      False  \n",
       "9            3          1.0       1.3900     UK_Card     UK_Card       True  "
      ]
     },
     "execution_count": 97,
     "metadata": {},
     "output_type": "execute_result"
    }
   ],
   "source": [
    "\n",
    "data4 = pd.merge(data2, df_grouped, on=['tmsp', 'country', 'amount'], how='right')\n",
    "data4.head(10)"
   ]
  },
  {
   "cell_type": "code",
   "execution_count": 98,
   "metadata": {},
   "outputs": [
    {
     "name": "stdout",
     "output_type": "stream",
     "text": [
      "<class 'pandas.core.frame.DataFrame'>\n",
      "RangeIndex: 27498 entries, 0 to 27497\n",
      "Data columns (total 19 columns):\n",
      " #   Column       Non-Null Count  Dtype         \n",
      "---  ------       --------------  -----         \n",
      " 0   Unnamed: 0   27498 non-null  int64         \n",
      " 1   tmsp         27498 non-null  datetime64[ns]\n",
      " 2   country      27498 non-null  object        \n",
      " 3   amount       27498 non-null  int64         \n",
      " 4   success_x    27498 non-null  int64         \n",
      " 5   PSP          27498 non-null  object        \n",
      " 6   3D_secured   27498 non-null  int64         \n",
      " 7   card         27498 non-null  object        \n",
      " 8   Failure (0)  27498 non-null  int64         \n",
      " 9   Success (1)  27498 non-null  int64         \n",
      " 10  Total        27498 non-null  int64         \n",
      " 11  success%     27498 non-null  float64       \n",
      " 12  Failure%     27498 non-null  float64       \n",
      " 13  fee_success  27498 non-null  int64         \n",
      " 14  fee_failure  27498 non-null  float64       \n",
      " 15  average_fee  27498 non-null  float64       \n",
      " 16  first_psp    27498 non-null  object        \n",
      " 17  last_psp     27498 non-null  object        \n",
      " 18  success_y    27498 non-null  bool          \n",
      "dtypes: bool(1), datetime64[ns](1), float64(4), int64(8), object(5)\n",
      "memory usage: 3.8+ MB\n"
     ]
    }
   ],
   "source": [
    "data4.info()"
   ]
  },
  {
   "cell_type": "code",
   "execution_count": 99,
   "metadata": {},
   "outputs": [],
   "source": [
    "# select few columns for model building\n",
    "data5 = data4[['tmsp','country','amount','success_x', 'PSP', '3D_secured',\n",
    "               'card', 'success%','Failure%','fee_success','fee_failure','average_fee', 'first_psp','last_psp']]"
   ]
  },
  {
   "cell_type": "code",
   "execution_count": 100,
   "metadata": {},
   "outputs": [
    {
     "name": "stdout",
     "output_type": "stream",
     "text": [
      "<class 'pandas.core.frame.DataFrame'>\n",
      "RangeIndex: 27498 entries, 0 to 27497\n",
      "Data columns (total 14 columns):\n",
      " #   Column       Non-Null Count  Dtype         \n",
      "---  ------       --------------  -----         \n",
      " 0   tmsp         27498 non-null  datetime64[ns]\n",
      " 1   country      27498 non-null  object        \n",
      " 2   amount       27498 non-null  int64         \n",
      " 3   success_x    27498 non-null  int64         \n",
      " 4   PSP          27498 non-null  object        \n",
      " 5   3D_secured   27498 non-null  int64         \n",
      " 6   card         27498 non-null  object        \n",
      " 7   success%     27498 non-null  float64       \n",
      " 8   Failure%     27498 non-null  float64       \n",
      " 9   fee_success  27498 non-null  int64         \n",
      " 10  fee_failure  27498 non-null  float64       \n",
      " 11  average_fee  27498 non-null  float64       \n",
      " 12  first_psp    27498 non-null  object        \n",
      " 13  last_psp     27498 non-null  object        \n",
      "dtypes: datetime64[ns](1), float64(4), int64(4), object(5)\n",
      "memory usage: 2.9+ MB\n"
     ]
    }
   ],
   "source": [
    "data5.info()"
   ]
  },
  {
   "cell_type": "code",
   "execution_count": 101,
   "metadata": {},
   "outputs": [],
   "source": [
    "df = data5.copy(deep=True)"
   ]
  },
  {
   "cell_type": "code",
   "execution_count": 102,
   "metadata": {},
   "outputs": [],
   "source": [
    "# Extract time of day as a new feature\n",
    "df.loc[:,'time_of_day'] = df['tmsp'].dt.hour"
   ]
  },
  {
   "cell_type": "code",
   "execution_count": 103,
   "metadata": {},
   "outputs": [],
   "source": [
    "# Extract day_of week as another feature\n",
    "df.loc[:, 'day_of_week_name'] = df['tmsp'].dt.day_name()"
   ]
  },
  {
   "cell_type": "code",
   "execution_count": 104,
   "metadata": {},
   "outputs": [
    {
     "name": "stdout",
     "output_type": "stream",
     "text": [
      "<class 'pandas.core.frame.DataFrame'>\n",
      "RangeIndex: 27498 entries, 0 to 27497\n",
      "Data columns (total 16 columns):\n",
      " #   Column            Non-Null Count  Dtype         \n",
      "---  ------            --------------  -----         \n",
      " 0   tmsp              27498 non-null  datetime64[ns]\n",
      " 1   country           27498 non-null  object        \n",
      " 2   amount            27498 non-null  int64         \n",
      " 3   success_x         27498 non-null  int64         \n",
      " 4   PSP               27498 non-null  object        \n",
      " 5   3D_secured        27498 non-null  int64         \n",
      " 6   card              27498 non-null  object        \n",
      " 7   success%          27498 non-null  float64       \n",
      " 8   Failure%          27498 non-null  float64       \n",
      " 9   fee_success       27498 non-null  int64         \n",
      " 10  fee_failure       27498 non-null  float64       \n",
      " 11  average_fee       27498 non-null  float64       \n",
      " 12  first_psp         27498 non-null  object        \n",
      " 13  last_psp          27498 non-null  object        \n",
      " 14  time_of_day       27498 non-null  int32         \n",
      " 15  day_of_week_name  27498 non-null  object        \n",
      "dtypes: datetime64[ns](1), float64(4), int32(1), int64(4), object(6)\n",
      "memory usage: 3.3+ MB\n"
     ]
    }
   ],
   "source": [
    "df.info()"
   ]
  },
  {
   "cell_type": "markdown",
   "metadata": {},
   "source": [
    "### Further Visualizations with the new Features\n",
    "\n",
    "Additional analysis into success and fees is done to gain insights into the factors that influence both.\n",
    "1. Visualizing success rate for each hour of day for each PSP\n",
    "2. visualizing success rate on each day of week for different PSPs.\n",
    "3. visualize average fee associated with transacions via each PSP."
   ]
  },
  {
   "cell_type": "code",
   "execution_count": 105,
   "metadata": {},
   "outputs": [
    {
     "name": "stdout",
     "output_type": "stream",
     "text": [
      "         PSP  time_of_day  success_rate\n",
      "0   Goldcard            0     40.278161\n",
      "1   Goldcard            1     40.830208\n",
      "2   Goldcard            2     40.702198\n",
      "3   Goldcard            3     40.536250\n",
      "4   Goldcard            4     40.577228\n",
      "..       ...          ...           ...\n",
      "91   UK_Card           19     19.419373\n",
      "92   UK_Card           20     19.421585\n",
      "93   UK_Card           21     19.418957\n",
      "94   UK_Card           22     19.420748\n",
      "95   UK_Card           23     19.420918\n",
      "\n",
      "[96 rows x 3 columns]\n"
     ]
    },
    {
     "data": {
      "image/png": "[encoded data removed]",
      "text/plain": [
       "<Figure size 1000x500 with 1 Axes>"
      ]
     },
     "metadata": {},
     "output_type": "display_data"
    }
   ],
   "source": [
    "# Calculate success rate for each hour and each PSP\n",
    "agg_data = df.groupby(['PSP', 'time_of_day']).agg(success_rate=('success%', 'mean')).reset_index()\n",
    "print(agg_data)\n",
    "\n",
    "# Set the plot style\n",
    "sns.set_theme(style=\"whitegrid\")\n",
    "\n",
    "# Create the plot\n",
    "plt.figure(figsize=(10, 5))\n",
    "\n",
    "# Loop through each PSP and plot its success rate over time of day\n",
    "for psp in agg_data['PSP'].unique():\n",
    "    psp_data = agg_data[agg_data['PSP'] == psp]\n",
    "    plt.plot(psp_data['time_of_day'], psp_data['success_rate'], marker='o', label=psp)\n",
    "\n",
    "# Add labels and title\n",
    "plt.xlabel('Hour of Day')\n",
    "plt.ylabel('Success Rate')\n",
    "plt.title('Success Rate by Time of Day for Each PSP')\n",
    "plt.xticks(range(0, 24))  # Ensure x-axis shows all hours\n",
    "plt.legend(title='PSP')\n",
    "\n",
    "# Show the plot\n",
    "plt.show()"
   ]
  },
  {
   "cell_type": "code",
   "execution_count": 106,
   "metadata": {},
   "outputs": [
    {
     "data": {
      "image/png": "[encoded data removed]",
      "text/plain": [
       "<Figure size 1200x500 with 1 Axes>"
      ]
     },
     "metadata": {},
     "output_type": "display_data"
    }
   ],
   "source": [
    "\n",
    "#Calculate success rate for each day of the week and each PSP\n",
    "agg_data1 = df.groupby(['PSP', 'day_of_week_name']).agg(success_rate=('success%', 'mean')).reset_index()\n",
    "\n",
    "# Ensure day_of_week is in the correct order\n",
    "days_order = ['Monday', 'Tuesday', 'Wednesday', 'Thursday', 'Friday', 'Saturday', 'Sunday']\n",
    "agg_data1['day_of_week_name'] = pd.Categorical(agg_data1['day_of_week_name'], categories=days_order, ordered=True)\n",
    "agg_data1.sort_values(by=['PSP', 'day_of_week_name'], inplace=True)\n",
    "\n",
    "\n",
    "# Set the plot style\n",
    "sns.set_theme(style=\"whitegrid\")\n",
    "\n",
    "# Create the plot\n",
    "plt.figure(figsize=(12, 5))\n",
    "\n",
    "# Create a bar plot\n",
    "sns.barplot(data=agg_data1, x='day_of_week_name', y='success_rate', hue='PSP',palette=\"husl\")\n",
    "\n",
    "# Add labels and title\n",
    "plt.xlabel('Day of the Week')\n",
    "plt.ylabel('Success Rate')\n",
    "plt.title('Success Rate by Day of the Week for Each PSP')\n",
    "\n",
    "# Rotate x-axis labels for better readability\n",
    "plt.xticks(rotation=45)\n",
    "\n",
    "# Show the plot\n",
    "plt.legend(title='PSP')\n",
    "plt.show()"
   ]
  },
  {
   "cell_type": "code",
   "execution_count": 107,
   "metadata": {},
   "outputs": [
    {
     "data": {
      "image/png": "[encoded data removed]",
      "text/plain": [
       "<Figure size 900x500 with 1 Axes>"
      ]
     },
     "metadata": {},
     "output_type": "display_data"
    }
   ],
   "source": [
    "# Calculate average transaction fee for each PSP\n",
    "avg_fees = df.groupby('PSP')['average_fee'].mean().reset_index()\n",
    "\n",
    "# Set the plot style\n",
    "sns.set_theme(style=\"whitegrid\")\n",
    "\n",
    "# Create the plot\n",
    "plt.figure(figsize=(9, 5))\n",
    "\n",
    "# Create a bar plot\n",
    "sns.barplot(data=avg_fees, x='PSP', y='average_fee',color='r')\n",
    "\n",
    "# Add labels and title\n",
    "plt.xlabel('PSP')\n",
    "plt.ylabel('Average Transaction Fee')\n",
    "plt.title('Average Transaction Fee by PSP')\n",
    "\n",
    "# Show the plot\n",
    "plt.show()"
   ]
  },
  {
   "cell_type": "markdown",
   "metadata": {},
   "source": [
    "## Data Preprocessing\n",
    "\n",
    "The data is prepared for building the model by;\n",
    "1. Scaling the numerical feartures such that they fall within the same range.\n",
    "2. Encoding categorical variables\n",
    "3. Imputing any mssing values by use of Median \n",
    "5. checking for correlated features\n",
    "\n",
    "The preprocessing follows the following steps.\n",
    "1. Define the processing pipeline: Transformers for numerical and categorical features.\n",
    "2. Fit and Transform the Data: Fit the preprocessor on the DataFrame and transform it.\n",
    "3. Retrieve the Actual Feature Names:concatenate the numerical feature names and the output feature names of the OneHotEncoder."
   ]
  },
  {
   "cell_type": "code",
   "execution_count": 108,
   "metadata": {},
   "outputs": [],
   "source": [
    "from sklearn.preprocessing import StandardScaler, OneHotEncoder\n",
    "from sklearn.compose import ColumnTransformer\n",
    "from sklearn.pipeline import Pipeline\n",
    "from sklearn.impute import SimpleImputer"
   ]
  },
  {
   "cell_type": "code",
   "execution_count": 109,
   "metadata": {},
   "outputs": [
    {
     "name": "stdout",
     "output_type": "stream",
     "text": [
      "Index(['tmsp', 'country', 'amount', 'success_x', 'PSP', '3D_secured', 'card',\n",
      "       'success%', 'Failure%', 'fee_success', 'fee_failure', 'average_fee',\n",
      "       'first_psp', 'last_psp', 'time_of_day', 'day_of_week_name'],\n",
      "      dtype='object')\n"
     ]
    }
   ],
   "source": [
    "print(df.columns)"
   ]
  },
  {
   "cell_type": "code",
   "execution_count": 110,
   "metadata": {},
   "outputs": [],
   "source": [
    "df1 = df.copy(deep=True)"
   ]
  },
  {
   "cell_type": "code",
   "execution_count": 111,
   "metadata": {},
   "outputs": [
    {
     "data": {
      "text/html": [
       "<div>\n",
       "<style scoped>\n",
       "    .dataframe tbody tr th:only-of-type {\n",
       "        vertical-align: middle;\n",
       "    }\n",
       "\n",
       "    .dataframe tbody tr th {\n",
       "        vertical-align: top;\n",
       "    }\n",
       "\n",
       "    .dataframe thead th {\n",
       "        text-align: right;\n",
       "    }\n",
       "</style>\n",
       "<table border=\"1\" class=\"dataframe\">\n",
       "  <thead>\n",
       "    <tr style=\"text-align: right;\">\n",
       "      <th></th>\n",
       "      <th>tmsp</th>\n",
       "      <th>country</th>\n",
       "      <th>amount</th>\n",
       "      <th>success_x</th>\n",
       "      <th>PSP</th>\n",
       "      <th>3D_secured</th>\n",
       "      <th>card</th>\n",
       "      <th>success%</th>\n",
       "      <th>Failure%</th>\n",
       "      <th>fee_success</th>\n",
       "      <th>fee_failure</th>\n",
       "      <th>average_fee</th>\n",
       "      <th>first_psp</th>\n",
       "      <th>last_psp</th>\n",
       "      <th>time_of_day</th>\n",
       "      <th>day_of_week_name</th>\n",
       "    </tr>\n",
       "  </thead>\n",
       "  <tbody>\n",
       "    <tr>\n",
       "      <th>0</th>\n",
       "      <td>2019-01-10 03:49:12</td>\n",
       "      <td>Austria</td>\n",
       "      <td>6</td>\n",
       "      <td>0</td>\n",
       "      <td>Moneycard</td>\n",
       "      <td>0</td>\n",
       "      <td>Diners</td>\n",
       "      <td>22.2</td>\n",
       "      <td>77.8</td>\n",
       "      <td>5</td>\n",
       "      <td>2.0</td>\n",
       "      <td>2.6660</td>\n",
       "      <td>Moneycard</td>\n",
       "      <td>Simplecard</td>\n",
       "      <td>3</td>\n",
       "      <td>Thursday</td>\n",
       "    </tr>\n",
       "    <tr>\n",
       "      <th>1</th>\n",
       "      <td>2019-01-27 14:01:11</td>\n",
       "      <td>Austria</td>\n",
       "      <td>6</td>\n",
       "      <td>1</td>\n",
       "      <td>Simplecard</td>\n",
       "      <td>0</td>\n",
       "      <td>Master</td>\n",
       "      <td>15.9</td>\n",
       "      <td>84.1</td>\n",
       "      <td>1</td>\n",
       "      <td>0.5</td>\n",
       "      <td>0.5795</td>\n",
       "      <td>Simplecard</td>\n",
       "      <td>Simplecard</td>\n",
       "      <td>14</td>\n",
       "      <td>Sunday</td>\n",
       "    </tr>\n",
       "    <tr>\n",
       "      <th>2</th>\n",
       "      <td>2019-02-08 05:02:33</td>\n",
       "      <td>Austria</td>\n",
       "      <td>6</td>\n",
       "      <td>0</td>\n",
       "      <td>UK_Card</td>\n",
       "      <td>0</td>\n",
       "      <td>Diners</td>\n",
       "      <td>19.5</td>\n",
       "      <td>80.5</td>\n",
       "      <td>3</td>\n",
       "      <td>1.0</td>\n",
       "      <td>1.3900</td>\n",
       "      <td>UK_Card</td>\n",
       "      <td>Simplecard</td>\n",
       "      <td>5</td>\n",
       "      <td>Friday</td>\n",
       "    </tr>\n",
       "    <tr>\n",
       "      <th>3</th>\n",
       "      <td>2019-02-16 08:24:40</td>\n",
       "      <td>Austria</td>\n",
       "      <td>6</td>\n",
       "      <td>1</td>\n",
       "      <td>UK_Card</td>\n",
       "      <td>1</td>\n",
       "      <td>Master</td>\n",
       "      <td>19.5</td>\n",
       "      <td>80.5</td>\n",
       "      <td>3</td>\n",
       "      <td>1.0</td>\n",
       "      <td>1.3900</td>\n",
       "      <td>UK_Card</td>\n",
       "      <td>UK_Card</td>\n",
       "      <td>8</td>\n",
       "      <td>Saturday</td>\n",
       "    </tr>\n",
       "    <tr>\n",
       "      <th>4</th>\n",
       "      <td>2019-01-25 04:18:26</td>\n",
       "      <td>Austria</td>\n",
       "      <td>7</td>\n",
       "      <td>0</td>\n",
       "      <td>Moneycard</td>\n",
       "      <td>0</td>\n",
       "      <td>Master</td>\n",
       "      <td>22.2</td>\n",
       "      <td>77.8</td>\n",
       "      <td>5</td>\n",
       "      <td>2.0</td>\n",
       "      <td>2.6660</td>\n",
       "      <td>Moneycard</td>\n",
       "      <td>Moneycard</td>\n",
       "      <td>4</td>\n",
       "      <td>Friday</td>\n",
       "    </tr>\n",
       "  </tbody>\n",
       "</table>\n",
       "</div>"
      ],
      "text/plain": [
       "                 tmsp  country  amount  success_x         PSP  3D_secured  \\\n",
       "0 2019-01-10 03:49:12  Austria       6          0   Moneycard           0   \n",
       "1 2019-01-27 14:01:11  Austria       6          1  Simplecard           0   \n",
       "2 2019-02-08 05:02:33  Austria       6          0     UK_Card           0   \n",
       "3 2019-02-16 08:24:40  Austria       6          1     UK_Card           1   \n",
       "4 2019-01-25 04:18:26  Austria       7          0   Moneycard           0   \n",
       "\n",
       "     card  success%  Failure%  fee_success  fee_failure  average_fee  \\\n",
       "0  Diners      22.2      77.8            5          2.0       2.6660   \n",
       "1  Master      15.9      84.1            1          0.5       0.5795   \n",
       "2  Diners      19.5      80.5            3          1.0       1.3900   \n",
       "3  Master      19.5      80.5            3          1.0       1.3900   \n",
       "4  Master      22.2      77.8            5          2.0       2.6660   \n",
       "\n",
       "    first_psp    last_psp  time_of_day day_of_week_name  \n",
       "0   Moneycard  Simplecard            3         Thursday  \n",
       "1  Simplecard  Simplecard           14           Sunday  \n",
       "2     UK_Card  Simplecard            5           Friday  \n",
       "3     UK_Card     UK_Card            8         Saturday  \n",
       "4   Moneycard   Moneycard            4           Friday  "
      ]
     },
     "execution_count": 111,
     "metadata": {},
     "output_type": "execute_result"
    }
   ],
   "source": [
    "df1.head()"
   ]
  },
  {
   "cell_type": "code",
   "execution_count": 112,
   "metadata": {},
   "outputs": [],
   "source": [
    "# Define numerical and categorical features\n",
    "numerical_features = ['amount', 'fee_success', 'fee_failure', 'average_fee', 'time_of_day', 'success%']\n",
    "categorical_features = ['country', 'PSP', '3D_secured', 'card', 'first_psp', 'last_psp', 'day_of_week_name']"
   ]
  },
  {
   "cell_type": "code",
   "execution_count": 113,
   "metadata": {},
   "outputs": [],
   "source": [
    "# Define transformers for numerical and categorical features\n",
    "numerical_transformer = Pipeline(steps=[\n",
    "    ('imputer', SimpleImputer(strategy='median')),\n",
    "    ('scaler', StandardScaler())\n",
    "])\n",
    "\n",
    "categorical_transformer = Pipeline(steps=[\n",
    "    ('imputer', SimpleImputer(strategy='most_frequent')),\n",
    "    ('onehot', OneHotEncoder(handle_unknown='ignore'))\n",
    "])"
   ]
  },
  {
   "cell_type": "code",
   "execution_count": 114,
   "metadata": {},
   "outputs": [],
   "source": [
    "\n",
    "# Combine transformers using ColumnTransformer\n",
    "preprocessor = ColumnTransformer(\n",
    "    transformers=[\n",
    "        ('num', numerical_transformer, numerical_features),\n",
    "        ('cat', categorical_transformer, categorical_features)\n",
    "    ])\n",
    "\n",
    "# Apply the transformations\n",
    "df_preprocessed = preprocessor.fit_transform(df1)"
   ]
  },
  {
   "cell_type": "code",
   "execution_count": 115,
   "metadata": {},
   "outputs": [
    {
     "data": {
      "text/plain": [
       "array([[-2.03700858,  0.70812909,  0.56220382, ...,  1.        ,\n",
       "         0.        ,  0.        ],\n",
       "       [-2.03700858, -1.02111328, -0.73513155, ...,  0.        ,\n",
       "         0.        ,  0.        ],\n",
       "       [-2.03700858, -0.15649209, -0.30268642, ...,  0.        ,\n",
       "         0.        ,  0.        ],\n",
       "       ...,\n",
       "       [ 3.04802497, -1.02111328, -0.73513155, ...,  0.        ,\n",
       "         1.        ,  0.        ],\n",
       "       [ 3.06882265, -0.15649209, -0.30268642, ...,  0.        ,\n",
       "         0.        ,  0.        ],\n",
       "       [ 3.08962033, -0.15649209, -0.30268642, ...,  1.        ,\n",
       "         0.        ,  0.        ]])"
      ]
     },
     "execution_count": 115,
     "metadata": {},
     "output_type": "execute_result"
    }
   ],
   "source": [
    "df_preprocessed"
   ]
  },
  {
   "cell_type": "code",
   "execution_count": 116,
   "metadata": {},
   "outputs": [
    {
     "data": {
      "text/plain": [
       "(27498, 33)"
      ]
     },
     "execution_count": 116,
     "metadata": {},
     "output_type": "execute_result"
    }
   ],
   "source": [
    "df_preprocessed.shape"
   ]
  },
  {
   "cell_type": "code",
   "execution_count": 117,
   "metadata": {},
   "outputs": [
    {
     "name": "stdout",
     "output_type": "stream",
     "text": [
      "['amount', 'fee_success', 'fee_failure', 'average_fee', 'time_of_day', 'success%']\n",
      "['country_Austria' 'country_Germany' 'country_Switzerland' 'PSP_Goldcard'\n",
      " 'PSP_Moneycard' 'PSP_Simplecard' 'PSP_UK_Card' '3D_secured_0'\n",
      " '3D_secured_1' 'card_Diners' 'card_Master' 'card_Visa'\n",
      " 'first_psp_Goldcard' 'first_psp_Moneycard' 'first_psp_Simplecard'\n",
      " 'first_psp_UK_Card' 'last_psp_Goldcard' 'last_psp_Moneycard'\n",
      " 'last_psp_Simplecard' 'last_psp_UK_Card' 'day_of_week_name_Friday'\n",
      " 'day_of_week_name_Monday' 'day_of_week_name_Saturday'\n",
      " 'day_of_week_name_Sunday' 'day_of_week_name_Thursday'\n",
      " 'day_of_week_name_Tuesday' 'day_of_week_name_Wednesday']\n",
      "33\n"
     ]
    }
   ],
   "source": [
    "# Get feature names\n",
    "numerical_feature_names = numerical_features\n",
    "print(numerical_feature_names)\n",
    "categorical_feature_names = preprocessor.named_transformers_['cat'].get_feature_names_out(categorical_features)\n",
    "all_feature_names = list(numerical_feature_names) + list(categorical_feature_names)\n",
    "print(categorical_feature_names)\n",
    "print(len(all_feature_names))"
   ]
  },
  {
   "cell_type": "code",
   "execution_count": 118,
   "metadata": {},
   "outputs": [
    {
     "name": "stdout",
     "output_type": "stream",
     "text": [
      "         amount  fee_success  fee_failure  average_fee  time_of_day  success%  \\\n",
      "0     -2.037009     0.708129     0.562204     0.510632    -1.230336  0.274204   \n",
      "1     -2.037009    -1.021113    -0.735132    -0.763116     0.357136 -0.751001   \n",
      "2     -2.037009    -0.156492    -0.302686    -0.268329    -0.941705 -0.165170   \n",
      "3     -2.037009    -0.156492    -0.302686    -0.268329    -0.508758 -0.165170   \n",
      "4     -2.026610     0.708129     0.562204     0.510632    -1.086020  0.274204   \n",
      "...         ...          ...          ...          ...          ...       ...   \n",
      "27493  2.881644    -0.156492    -0.302686    -0.269550     0.790083 -0.181443   \n",
      "27494  2.892042    -0.156492    -0.302686    -0.269550     1.367346 -0.181443   \n",
      "27495  3.048025    -1.021113    -0.735132    -0.764642    -1.086020 -0.832367   \n",
      "27496  3.068823    -0.156492    -0.302686    -0.269550     1.367346 -0.181443   \n",
      "27497  3.089620    -0.156492    -0.302686    -0.269550    -1.086020 -0.181443   \n",
      "\n",
      "       country_Austria  country_Germany  country_Switzerland  PSP_Goldcard  \\\n",
      "0                  1.0              0.0                  0.0           0.0   \n",
      "1                  1.0              0.0                  0.0           0.0   \n",
      "2                  1.0              0.0                  0.0           0.0   \n",
      "3                  1.0              0.0                  0.0           0.0   \n",
      "4                  1.0              0.0                  0.0           0.0   \n",
      "...                ...              ...                  ...           ...   \n",
      "27493              0.0              0.0                  1.0           0.0   \n",
      "27494              0.0              0.0                  1.0           0.0   \n",
      "27495              0.0              0.0                  1.0           0.0   \n",
      "27496              0.0              0.0                  1.0           0.0   \n",
      "27497              0.0              0.0                  1.0           0.0   \n",
      "\n",
      "       ...  last_psp_Moneycard  last_psp_Simplecard  last_psp_UK_Card  \\\n",
      "0      ...                 0.0                  1.0               0.0   \n",
      "1      ...                 0.0                  1.0               0.0   \n",
      "2      ...                 0.0                  1.0               0.0   \n",
      "3      ...                 0.0                  0.0               1.0   \n",
      "4      ...                 1.0                  0.0               0.0   \n",
      "...    ...                 ...                  ...               ...   \n",
      "27493  ...                 0.0                  0.0               1.0   \n",
      "27494  ...                 0.0                  0.0               1.0   \n",
      "27495  ...                 0.0                  1.0               0.0   \n",
      "27496  ...                 1.0                  0.0               0.0   \n",
      "27497  ...                 0.0                  0.0               1.0   \n",
      "\n",
      "       day_of_week_name_Friday  day_of_week_name_Monday  \\\n",
      "0                          0.0                      0.0   \n",
      "1                          0.0                      0.0   \n",
      "2                          1.0                      0.0   \n",
      "3                          0.0                      0.0   \n",
      "4                          1.0                      0.0   \n",
      "...                        ...                      ...   \n",
      "27493                      0.0                      0.0   \n",
      "27494                      0.0                      0.0   \n",
      "27495                      0.0                      0.0   \n",
      "27496                      0.0                      0.0   \n",
      "27497                      0.0                      0.0   \n",
      "\n",
      "       day_of_week_name_Saturday  day_of_week_name_Sunday  \\\n",
      "0                            0.0                      0.0   \n",
      "1                            0.0                      1.0   \n",
      "2                            0.0                      0.0   \n",
      "3                            1.0                      0.0   \n",
      "4                            0.0                      0.0   \n",
      "...                          ...                      ...   \n",
      "27493                        0.0                      0.0   \n",
      "27494                        1.0                      0.0   \n",
      "27495                        0.0                      0.0   \n",
      "27496                        0.0                      1.0   \n",
      "27497                        0.0                      0.0   \n",
      "\n",
      "       day_of_week_name_Thursday  day_of_week_name_Tuesday  \\\n",
      "0                            1.0                       0.0   \n",
      "1                            0.0                       0.0   \n",
      "2                            0.0                       0.0   \n",
      "3                            0.0                       0.0   \n",
      "4                            0.0                       0.0   \n",
      "...                          ...                       ...   \n",
      "27493                        0.0                       1.0   \n",
      "27494                        0.0                       0.0   \n",
      "27495                        0.0                       1.0   \n",
      "27496                        0.0                       0.0   \n",
      "27497                        1.0                       0.0   \n",
      "\n",
      "       day_of_week_name_Wednesday  \n",
      "0                             0.0  \n",
      "1                             0.0  \n",
      "2                             0.0  \n",
      "3                             0.0  \n",
      "4                             0.0  \n",
      "...                           ...  \n",
      "27493                         0.0  \n",
      "27494                         0.0  \n",
      "27495                         0.0  \n",
      "27496                         0.0  \n",
      "27497                         0.0  \n",
      "\n",
      "[27498 rows x 33 columns]\n"
     ]
    }
   ],
   "source": [
    "# Create a DataFrame with proper column names\n",
    "df_preprocessed = pd.DataFrame(df_preprocessed, columns=all_feature_names)\n",
    "\n",
    "print(df_preprocessed)"
   ]
  },
  {
   "cell_type": "code",
   "execution_count": 119,
   "metadata": {},
   "outputs": [
    {
     "data": {
      "image/png": "[encoded data removed]",
      "text/plain": [
       "<Figure size 1200x600 with 2 Axes>"
      ]
     },
     "metadata": {},
     "output_type": "display_data"
    }
   ],
   "source": [
    "# checking for correlations: Compute the correlation matrix for correlations among numerical features\n",
    "corr_matrix = df1[numerical_features].corr()\n",
    "\n",
    "# Plot the correlation matrix\n",
    "plt.figure(figsize=(12, 6))\n",
    "sns.heatmap(corr_matrix, annot=True, cmap='coolwarm')\n",
    "plt.show()\n"
   ]
  },
  {
   "cell_type": "markdown",
   "metadata": {},
   "source": [
    "### Correlation Analysis\n",
    "\n",
    "1. There is a very strong positive correlation between success% and fee_success. This suggests that higher success rates might be associated with higher fees for successful transactions, possibly indicating a trade-off between transaction success and cost. Also the strong positive correlation between success% and average_fee indicates that higher transaction success rates might be associated with higher average fees.\n",
    "\n",
    "2. A very weak negative correlation exists between time_of_day and fee_success and fee_failure indicating almost no relationship between these two variables.\n",
    "\n",
    "3. Multi-Collinearity: High multi-collinearity is evident among fee_success, fee_failure, and average_fee, which may need to be addressed in modeling to avoid redundancy and instability.\n"
   ]
  },
  {
   "cell_type": "markdown",
   "metadata": {},
   "source": [
    "### Feature Importance and Selection\n",
    "\n",
    "The most important features are computed by training a random forest classifier. \n",
    "This is based on mean decrease in impurity and the importance of a feature is the average of all the impurity decreases attributed to that feature across all trees.\n",
    "Feature importances are provided by the fitted attribute,feature_importances_ ."
   ]
  },
  {
   "cell_type": "code",
   "execution_count": 120,
   "metadata": {},
   "outputs": [
    {
     "name": "stdout",
     "output_type": "stream",
     "text": [
      "                       feature  importance\n",
      "0                       amount    0.424165\n",
      "4                  time_of_day    0.261059\n",
      "25            last_psp_UK_Card    0.030579\n",
      "22           last_psp_Goldcard    0.023042\n",
      "24         last_psp_Simplecard    0.020302\n",
      "17                   card_Visa    0.015961\n",
      "23          last_psp_Moneycard    0.015921\n",
      "5                     success%    0.014713\n",
      "16                 card_Master    0.014306\n",
      "14                3D_secured_1    0.014202\n",
      "13                3D_secured_0    0.013755\n",
      "15                 card_Diners    0.011360\n",
      "3                  average_fee    0.010663\n",
      "1                  fee_success    0.010198\n",
      "31    day_of_week_name_Tuesday    0.010086\n",
      "32  day_of_week_name_Wednesday    0.010071\n",
      "30   day_of_week_name_Thursday    0.010007\n",
      "28   day_of_week_name_Saturday    0.009936\n",
      "27     day_of_week_name_Monday    0.009542\n",
      "26     day_of_week_name_Friday    0.009273\n",
      "29     day_of_week_name_Sunday    0.008899\n",
      "2                  fee_failure    0.007550\n",
      "7              country_Germany    0.006720\n",
      "9                 PSP_Goldcard    0.005591\n",
      "8          country_Switzerland    0.005192\n",
      "21           first_psp_UK_Card    0.005045\n",
      "18          first_psp_Goldcard    0.004719\n",
      "6              country_Austria    0.004545\n",
      "12                 PSP_UK_Card    0.003774\n",
      "10               PSP_Moneycard    0.002572\n",
      "20        first_psp_Simplecard    0.002301\n",
      "11              PSP_Simplecard    0.002016\n",
      "19         first_psp_Moneycard    0.001935\n"
     ]
    }
   ],
   "source": [
    "# compute feature importance using Random forests\n",
    "\n",
    "from sklearn.ensemble import RandomForestClassifier\n",
    "\n",
    "# Assume target variable is 'success_x'\n",
    "X = df_preprocessed\n",
    "y = df1['success_x']\n",
    "\n",
    "# Fit a Random Forest model\n",
    "model = RandomForestClassifier()\n",
    "model.fit(X, y)\n",
    "\n",
    "# Get feature importances\n",
    "importances = model.feature_importances_\n",
    "\n",
    "# Map importances to feature names\n",
    "feature_names = numerical_features + list(preprocessor.named_transformers_['cat']['onehot'].get_feature_names_out(categorical_features))\n",
    "feature_importances = pd.DataFrame({'feature': feature_names, 'importance': importances})\n",
    "\n",
    "# Sort by importance\n",
    "feature_importances = feature_importances.sort_values(by='importance', ascending=False)\n",
    "print(feature_importances)\n"
   ]
  },
  {
   "cell_type": "code",
   "execution_count": 121,
   "metadata": {},
   "outputs": [
    {
     "name": "stdout",
     "output_type": "stream",
     "text": [
      "(27498, 33)\n"
     ]
    }
   ],
   "source": [
    "print(X.shape)"
   ]
  },
  {
   "cell_type": "code",
   "execution_count": 122,
   "metadata": {},
   "outputs": [
    {
     "name": "stdout",
     "output_type": "stream",
     "text": [
      "['amount', 'time_of_day', 'last_psp_UK_Card', 'last_psp_Goldcard', 'last_psp_Simplecard', 'card_Visa', 'last_psp_Moneycard', 'success%', 'card_Master', '3D_secured_1', '3D_secured_0', 'card_Diners', 'average_fee', 'fee_success', 'day_of_week_name_Tuesday']\n"
     ]
    }
   ],
   "source": [
    "# Select top-k features to use for building model(e.g., top 15)\n",
    "top_k = 15\n",
    "selected_features = feature_importances.head(top_k)['feature'].tolist()\n",
    "print(selected_features)"
   ]
  },
  {
   "cell_type": "markdown",
   "metadata": {},
   "source": [
    "## BUILDING THE MODEL\n",
    "\n",
    "A Baseline model and accurate model are built. For the choice of accurate model, the hyperparameters are tuned to improve the accuracy.\n",
    "1. Baseline logistic regression model using selected features"
   ]
  },
  {
   "cell_type": "code",
   "execution_count": 123,
   "metadata": {},
   "outputs": [
    {
     "name": "stdout",
     "output_type": "stream",
     "text": [
      "Accuracy: 0.6243636363636363\n",
      "              precision    recall  f1-score   support\n",
      "\n",
      "           0       0.85      0.65      0.73      4405\n",
      "           1       0.27      0.53      0.36      1095\n",
      "\n",
      "    accuracy                           0.62      5500\n",
      "   macro avg       0.56      0.59      0.55      5500\n",
      "weighted avg       0.73      0.62      0.66      5500\n",
      "\n",
      "[[2853 1552]\n",
      " [ 514  581]]\n"
     ]
    }
   ],
   "source": [
    "\n",
    "from sklearn.linear_model import LogisticRegression\n",
    "from sklearn.model_selection import train_test_split\n",
    "from sklearn.metrics import accuracy_score, classification_report,confusion_matrix\n",
    "from imblearn.over_sampling import SMOTE\n",
    "from collections import Counter\n",
    "\n",
    "\n",
    "# Subset the DataFrame to include only the selected features\n",
    "X_selected = X[selected_features]\n",
    "y = df1['success_x']\n",
    "\n",
    "# Split the data into training and test sets\n",
    "X_train, X_test, y_train, y_test = train_test_split(X_selected, y, test_size=0.2, random_state=42)\n",
    "\n",
    "# Apply SMOTE\n",
    "smote = SMOTE(random_state=42)\n",
    "X_train_smote, y_train_smote = smote.fit_resample(X_train, y_train)\n",
    "\n",
    "# print(f\"Original dataset shape: {Counter(y_train)}\")\n",
    "# print(f\"Resampled dataset shape: {Counter(y_train_smote)}\")\n",
    "\n",
    "# Initialize and train the model\n",
    "model = LogisticRegression(class_weight='balanced', random_state=42)\n",
    "model.fit(X_train_smote, y_train_smote)\n",
    "\n",
    "# Make predictions\n",
    "y_pred = model.predict(X_test)\n",
    "\n",
    "# # Evaluate the model\n",
    "print('Accuracy:', accuracy_score(y_test, y_pred))\n",
    "print(classification_report(y_test, y_pred))\n",
    "print(confusion_matrix(y_test, y_pred))\n"
   ]
  },
  {
   "cell_type": "markdown",
   "metadata": {},
   "source": [
    "## Fitting other classification models\n",
    "4 different algorithms are fitted in order to get a more accurate predictive model that fulfills business requirements.\n",
    "Algorithms include; SVM, Gradient_boost, XGboost and Random forest classifier."
   ]
  },
  {
   "cell_type": "code",
   "execution_count": 124,
   "metadata": {},
   "outputs": [],
   "source": [
    "from sklearn.ensemble import RandomForestClassifier, GradientBoostingClassifier\n",
    "from sklearn.preprocessing import StandardScaler, LabelEncoder\n",
    "from imblearn.over_sampling import SMOTE\n",
    "from sklearn.svm import SVC\n",
    "import xgboost as xgb\n",
    "\n",
    "\n",
    "X = df1.drop(['success_x', 'tmsp'], axis=1)\n",
    "y = df1['success_x']\n",
    "\n",
    "# Encode categorical variables\n",
    "X = pd.get_dummies(X, drop_first=True)\n",
    "label_encoder = LabelEncoder()\n",
    "y = label_encoder.fit_transform(y)\n",
    "\n",
    "# Train-test split\n",
    "X_train, X_test, y_train, y_test = train_test_split(X, y, stratify=y, test_size=0.2, random_state=42)\n",
    "\n",
    "\n",
    "# Standardize features\n",
    "scaler = StandardScaler()\n",
    "X_train = scaler.fit_transform(X_train)\n",
    "X_test = scaler.transform(X_test)\n",
    "\n",
    "smote = SMOTE(random_state=42)\n",
    "X1_train_smote, y1_train_smote = smote.fit_resample(X_train, y_train)"
   ]
  },
  {
   "cell_type": "markdown",
   "metadata": {},
   "source": [
    "Fitting the 4 Models and Evaluating them by respective accuracy score and the Classification Reports. The associated probabilities are also \n",
    "printed(first 10) to provide an idea of likelihood of success/ failure of certain transactions."
   ]
  },
  {
   "cell_type": "code",
   "execution_count": 125,
   "metadata": {},
   "outputs": [
    {
     "name": "stdout",
     "output_type": "stream",
     "text": [
      "Random Forest Classifier:\n",
      "              precision    recall  f1-score   support\n",
      "\n",
      "           0       0.87      0.81      0.84      4364\n",
      "           1       0.42      0.53      0.46      1136\n",
      "\n",
      "    accuracy                           0.75      5500\n",
      "   macro avg       0.64      0.67      0.65      5500\n",
      "weighted avg       0.77      0.75      0.76      5500\n",
      "\n",
      "Accuracy: 0.7494545454545455\n",
      "Predicted Probabilities (first 10): [0.31       0.25       0.42       0.56       0.         0.\n",
      " 0.18       0.73583333 0.29       0.        ]\n",
      "\n",
      "Gradient Boosting Classifier:\n",
      "              precision    recall  f1-score   support\n",
      "\n",
      "           0       0.85      0.87      0.86      4364\n",
      "           1       0.45      0.41      0.43      1136\n",
      "\n",
      "    accuracy                           0.78      5500\n",
      "   macro avg       0.65      0.64      0.64      5500\n",
      "weighted avg       0.77      0.78      0.77      5500\n",
      "\n",
      "Accuracy: 0.7756363636363637\n",
      "Predicted Probabilities (first 10): [0.55176956 0.34054424 0.37558592 0.39767002 0.31668721 0.32532084\n",
      " 0.23869227 0.5766564  0.49660748 0.23918132]\n",
      "\n",
      "XGBoost Classifier:\n",
      "              precision    recall  f1-score   support\n",
      "\n",
      "           0       0.85      0.90      0.87      4364\n",
      "           1       0.51      0.41      0.45      1136\n",
      "\n",
      "    accuracy                           0.80      5500\n",
      "   macro avg       0.68      0.65      0.66      5500\n",
      "weighted avg       0.78      0.80      0.79      5500\n",
      "\n",
      "Accuracy: 0.7954545454545454\n",
      "Predicted Probabilities (first 10): [0.36658353 0.23896094 0.36111054 0.5118007  0.04777666 0.00190764\n",
      " 0.00523909 0.6014254  0.4728816  0.0055269 ]\n",
      "\n",
      "Support Vector Machine Classifier:\n",
      "              precision    recall  f1-score   support\n",
      "\n",
      "           0       0.92      0.65      0.76      4364\n",
      "           1       0.37      0.80      0.51      1136\n",
      "\n",
      "    accuracy                           0.68      5500\n",
      "   macro avg       0.65      0.72      0.63      5500\n",
      "weighted avg       0.81      0.68      0.71      5500\n",
      "\n",
      "Accuracy: 0.6778181818181818\n"
     ]
    }
   ],
   "source": [
    "# 1. Random Forest\n",
    "rf_model = RandomForestClassifier(random_state=42)\n",
    "rf_model.fit(X1_train_smote, y1_train_smote)\n",
    "rf_preds = rf_model.predict(X_test)\n",
    "rf_probs = rf_model.predict_proba(X_test)[:, 1] \n",
    "print(\"Random Forest Classifier:\")\n",
    "print(classification_report(y_test, rf_preds))\n",
    "print(\"Accuracy:\", accuracy_score(y_test, rf_preds))\n",
    "print(\"Predicted Probabilities (first 10):\", rf_probs[:10])\n",
    "\n",
    "# 2. Gradient Boosting\n",
    "gb_model = GradientBoostingClassifier(random_state=42)\n",
    "gb_model.fit(X1_train_smote, y1_train_smote)\n",
    "gb_preds = gb_model.predict(X_test)\n",
    "gb_probs = gb_model.predict_proba(X_test)[:, 1] \n",
    "print(\"\\nGradient Boosting Classifier:\")\n",
    "print(classification_report(y_test, gb_preds))\n",
    "print(\"Accuracy:\", accuracy_score(y_test, gb_preds))\n",
    "print(\"Predicted Probabilities (first 10):\", gb_probs[:10])\n",
    "\n",
    "# 3. XGBoost\n",
    "xgb_model = xgb.XGBClassifier(random_state=42)\n",
    "xgb_model.fit(X1_train_smote, y1_train_smote)\n",
    "xgb_preds = xgb_model.predict(X_test)\n",
    "xgb_probs = xgb_model.predict_proba(X_test)[:, 1]  \n",
    "print(\"\\nXGBoost Classifier:\")\n",
    "print(classification_report(y_test, xgb_preds))\n",
    "print(\"Accuracy:\", accuracy_score(y_test, xgb_preds))\n",
    "print(\"Predicted Probabilities (first 10):\", xgb_probs[:10])\n",
    "\n",
    "# 4. Support Vector Machine\n",
    "svm_model = SVC(random_state=42)\n",
    "svm_model.fit(X1_train_smote, y1_train_smote)\n",
    "svm_preds = svm_model.predict(X_test)\n",
    "print(\"\\nSupport Vector Machine Classifier:\")\n",
    "print(classification_report(y_test, svm_preds))\n",
    "print(\"Accuracy:\", accuracy_score(y_test, svm_preds))\n"
   ]
  },
  {
   "cell_type": "markdown",
   "metadata": {},
   "source": [
    "### Model results interpretation (XGBoost)\n",
    "\n",
    "The overall accuracy of 0.82 indicates that the model correctly predicts whether a transaction will be a success or failure 82% of the time."
   ]
  },
  {
   "cell_type": "markdown",
   "metadata": {},
   "source": [
    "### Hyperparameter tuning for XGboost model\n",
    "\n",
    "I chose XGBoost as the best model, and performed hyperparameter tuning using randomized search to find the best parameters for model fitting. \n",
    "The algorithm has built-in regularization to prevent overfitting and it's highly flexible with a wide range of hyperparameters for tuning.\n",
    "There's a slight improvement in the accuracy Score for the model 82%"
   ]
  },
  {
   "cell_type": "code",
   "execution_count": 126,
   "metadata": {},
   "outputs": [
    {
     "name": "stdout",
     "output_type": "stream",
     "text": [
      "Fitting 3 folds for each of 100 candidates, totalling 300 fits\n",
      "Best Parameters: {'subsample': 0.8, 'n_estimators': 500, 'max_depth': 6, 'learning_rate': 0.01, 'gamma': 0.2, 'colsample_bytree': 0.7}\n",
      "\n",
      "Classification Report:\n",
      "              precision    recall  f1-score   support\n",
      "\n",
      "           0       0.82      0.99      0.90      4364\n",
      "           1       0.87      0.16      0.27      1136\n",
      "\n",
      "    accuracy                           0.82      5500\n",
      "   macro avg       0.85      0.58      0.59      5500\n",
      "weighted avg       0.83      0.82      0.77      5500\n",
      "\n",
      "Accuracy: 0.8221818181818182\n"
     ]
    }
   ],
   "source": [
    "import xgboost as xgb\n",
    "from sklearn.model_selection import RandomizedSearchCV\n",
    "from sklearn.metrics import classification_report, accuracy_score\n",
    "\n",
    "# Define the parameter grid\n",
    "param_grid = {\n",
    "    'n_estimators': [100, 200, 300, 400, 500],\n",
    "    'learning_rate': [0.01, 0.05, 0.1, 0.2],\n",
    "    'max_depth': [3, 4, 5, 6, 7, 8],\n",
    "    'subsample': [0.6, 0.7, 0.8, 0.9, 1.0],\n",
    "    'colsample_bytree': [0.6, 0.7, 0.8, 0.9, 1.0],\n",
    "    'gamma': [0, 0.1, 0.2, 0.3, 0.4]\n",
    "}\n",
    "\n",
    "# Initialize the XGBoost model\n",
    "xgb_model = xgb.XGBClassifier(random_state=42)\n",
    "\n",
    "# Set up the random search with cross-validation\n",
    "random_search = RandomizedSearchCV(\n",
    "    estimator=xgb_model,\n",
    "    param_distributions=param_grid,\n",
    "    n_iter=100,  # Number of parameter settings that are sampled\n",
    "    scoring='accuracy',\n",
    "    cv=3,  # Number of cross-validation folds\n",
    "    verbose=2,\n",
    "    random_state=42,\n",
    "    n_jobs=-1  # Use all available cores\n",
    ")\n",
    "\n",
    "# Fit the random search model\n",
    "random_search.fit(X_train, y_train)\n",
    "\n",
    "# Get the best parameters and the best model\n",
    "best_params = random_search.best_params_\n",
    "best_model = random_search.best_estimator_\n",
    "\n",
    "print(\"Best Parameters:\", best_params)\n",
    "\n",
    "# Evaluate the best model on the test set\n",
    "y_pred = best_model.predict(X_test)\n",
    "print(\"\\nClassification Report:\")\n",
    "print(classification_report(y_test, y_pred))\n",
    "print(\"Accuracy:\", accuracy_score(y_test, y_pred))\n"
   ]
  },
  {
   "cell_type": "markdown",
   "metadata": {},
   "source": [
    "## Saving the model and Deployment\n",
    " The model and pipeline are saved as a pickle file then read when trying to make predictions on unseen data \n",
    " as demonstrated below."
   ]
  },
  {
   "cell_type": "code",
   "execution_count": 127,
   "metadata": {},
   "outputs": [],
   "source": [
    "import pickle\n",
    "import pandas as pd\n",
    "from sklearn.preprocessing import StandardScaler, OneHotEncoder\n",
    "from sklearn.compose import ColumnTransformer\n",
    "from sklearn.pipeline import Pipeline\n",
    "import xgboost as xgb\n",
    "\n",
    "# Define preprocessing pipeline\n",
    "numerical_features = ['amount', 'fee_success', 'average_fee', 'time_of_day']  \n",
    "categorical_features = ['3D_secured', 'card','last_psp']  \n",
    "\n",
    "# select few columns\n",
    "selected_cols = ['amount', 'fee_success', 'average_fee', 'time_of_day', 'card','3D_secured','last_psp']\n",
    "\n",
    "#define features and target\n",
    "X_1 = df1[selected_cols]\n",
    "y_1 = df1['success_x']\n",
    "\n",
    "preprocessor = ColumnTransformer(\n",
    "    transformers=[\n",
    "        ('num', StandardScaler(), numerical_features),\n",
    "        ('cat', OneHotEncoder(drop='first',  handle_unknown='ignore'), categorical_features)\n",
    "    ])\n",
    "\n",
    "# Define the full pipeline with preprocessing and model\n",
    "model_pipeline = Pipeline(steps=[\n",
    "    ('preprocessor', preprocessor),\n",
    "    ('classifier', xgb.XGBClassifier(random_state=42))\n",
    "])\n",
    "\n",
    "\n",
    "# Train the pipeline\n",
    "model_pipeline.fit(X_1, y_1)\n",
    "\n",
    "# Save the pipeline\n",
    "with open('model_pipeline_xgb.pkl', 'wb') as f:\n",
    "    pickle.dump(model_pipeline, f)\n"
   ]
  },
  {
   "cell_type": "code",
   "execution_count": 128,
   "metadata": {},
   "outputs": [
    {
     "name": "stdout",
     "output_type": "stream",
     "text": [
      "<class 'pandas.core.frame.DataFrame'>\n"
     ]
    }
   ],
   "source": [
    "print(type(X_1))"
   ]
  },
  {
   "cell_type": "code",
   "execution_count": 129,
   "metadata": {},
   "outputs": [
    {
     "name": "stdout",
     "output_type": "stream",
     "text": [
      "Predictions: [0 1]\n",
      "Predicted Probabilities: [[0.99847573 0.00152429]\n",
      " [0.12512094 0.87487906]]\n"
     ]
    }
   ],
   "source": [
    "import pickle\n",
    "import pandas as pd\n",
    "\n",
    "# Load the pipeline\n",
    "with open('model_pipeline_xgb.pkl', 'rb') as f:\n",
    "    model_pipeline = pickle.load(f)\n",
    "\n",
    "#  `new_data` is the new data for prediction\n",
    "new_data = pd.DataFrame({\n",
    "    'amount': [400, 32],  \n",
    "    'fee_success': [3.0, 23],\n",
    "    'average_fee': [5.6, 6.7],\n",
    "    'time_of_day': [14, 1],\n",
    "    'card': ['Visa', 'Master'],\n",
    "    '3D_secured': [0, 1],\n",
    "    'last_psp': ['Simplecard',  'Goldcard'],\n",
    "    \n",
    "})\n",
    "\n",
    "# Make predictions\n",
    "predictions = model_pipeline.predict(new_data)\n",
    "predicted_probabilities = model_pipeline.predict_proba(new_data)\n",
    "\n",
    "print(\"Predictions:\", predictions)\n",
    "print(\"Predicted Probabilities:\", predicted_probabilities)\n"
   ]
  }
 ],
 "metadata": {
  "kernelspec": {
   "display_name": "myenv",
   "language": "python",
   "name": "python3"
  },
  "language_info": {
   "codemirror_mode": {
    "name": "ipython",
    "version": 3
   },
   "file_extension": ".py",
   "mimetype": "text/x-python",
   "name": "python",
   "nbconvert_exporter": "python",
   "pygments_lexer": "ipython3",
   "version": "3.11.5"
  }
 },
 "nbformat": 4,
 "nbformat_minor": 2
}
